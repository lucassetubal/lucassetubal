{
  "nbformat": 4,
  "nbformat_minor": 0,
  "metadata": {
    "colab": {
      "provenance": [],
      "authorship_tag": "ABX9TyNrbFuKzF0lMqpDN/4zwgNX",
      "include_colab_link": true
    },
    "kernelspec": {
      "name": "python3",
      "display_name": "Python 3"
    },
    "language_info": {
      "name": "python"
    }
  },
  "cells": [
    {
      "cell_type": "markdown",
      "metadata": {
        "id": "view-in-github",
        "colab_type": "text"
      },
      "source": [
        "<a href=\"https://colab.research.google.com/github/lucassetubal/lucassetubal/blob/main/Projeto_M%C3%B3dulo_05.ipynb\" target=\"_parent\"><img src=\"https://colab.research.google.com/assets/colab-badge.svg\" alt=\"Open In Colab\"/></a>"
      ]
    },
    {
      "cell_type": "code",
      "execution_count": 8,
      "metadata": {
        "id": "LG8BuenE_psw",
        "colab": {
          "base_uri": "https://localhost:8080/"
        },
        "outputId": "ad5776e4-fb66-492d-cb1d-14372aed6d6d"
      },
      "outputs": [
        {
          "output_type": "stream",
          "name": "stdout",
          "text": [
            "Digite a primeira nota: 2\n",
            "Digite a segunda nota: 1\n",
            "Digite a terceira nota: 1\n",
            "Digite a quarta nota: 1\n",
            "Escolha a operação matemática: - 1 Somar, - 2 Multiplicar, - 3 Subtrair, - 4 Média 2\n",
            "2.0\n"
          ]
        }
      ],
      "source": [
        "nota_1 = input(\"Digite a primeira nota: \")\n",
        "nota_2 = input(\"Digite a segunda nota: \")\n",
        "nota_3 = input(\"Digite a terceira nota: \")\n",
        "nota_4 = input(\"Digite a quarta nota: \")\n",
        "\n",
        "operacao = input(\"Escolha a operação matemática: - 1 Somar, - 2 Multiplicar, - 3 Subtrair, - 4 Média \")\n",
        "operacao = int(operacao)\n",
        "nota_1 = float(nota_1)\n",
        "nota_2 = float(nota_2)\n",
        "nota_3 = float(nota_3)\n",
        "nota_4 = float(nota_4)\n",
        "\n",
        "if operacao == 1:\n",
        "    print(nota_1 + nota_2 + nota_3 + nota_4)\n",
        "elif operacao == 2:\n",
        "    print(nota_1 * nota_2 * nota_3 * nota_4)\n",
        "elif operacao == 3:\n",
        "    print(nota_1 - nota_2 - nota_3 - nota_4)\n",
        "elif operacao == 4:\n",
        "    print((nota_1 + nota_2 + nota_3 + nota_4) / 4)"
      ]
    }
  ]
}